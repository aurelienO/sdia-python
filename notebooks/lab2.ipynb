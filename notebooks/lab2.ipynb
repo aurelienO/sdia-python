{
 "cells": [
  {
   "cell_type": "code",
   "execution_count": 1,
   "metadata": {},
   "outputs": [],
   "source": [
    "%load_ext autoreload\n",
    "%autoreload 2"
   ]
  },
  {
   "cell_type": "markdown",
   "metadata": {},
   "source": []
  },
  {
   "cell_type": "code",
   "execution_count": 6,
   "metadata": {},
   "outputs": [],
   "source": [
    "from sdia_python.lab2.ball_window import BallWindow\n",
    "from sdia_python.lab2.box_window import BoxWindow\n",
    "from sdia_python.lab2.utils import get_random_number_generator\n",
    "import numpy as np"
   ]
  },
  {
   "cell_type": "code",
   "execution_count": 16,
   "metadata": {},
   "outputs": [
    {
     "data": {
      "text/plain": [
       "'<generator object <genexpr> at 0x000002263616A0B0>'"
      ]
     },
     "execution_count": 16,
     "metadata": {},
     "output_type": "execute_result"
    }
   ],
   "source": [
    "bounds = np.array([[1, 2], [3, 5], [5, 9], [1, 2], [3, 5], [5, 6]])\n",
    "rng = get_random_number_generator(None)\n",
    "points = (rng.uniform(a, b, 10) for (a, b) in bounds)\n",
    "str(points)\n"
   ]
  },
  {
   "cell_type": "code",
   "execution_count": 8,
   "metadata": {},
   "outputs": [
    {
     "data": {
      "text/plain": [
       "64"
      ]
     },
     "execution_count": 8,
     "metadata": {},
     "output_type": "execute_result"
    }
   ],
   "source": [
    "#(np.array([1]), 4), (np.array([1, 3]), 16), (np.array([1.4, 2.6, 3.9]), 64)\n",
    "ball = BallWindow(np.array([1.4, 2.6, 3.9]), 2)\n",
    "ball.volume()"
   ]
  },
  {
   "cell_type": "code",
   "execution_count": 16,
   "metadata": {},
   "outputs": [
    {
     "data": {
      "text/plain": [
       "numpy.ndarray"
      ]
     },
     "execution_count": 16,
     "metadata": {},
     "output_type": "execute_result"
    }
   ],
   "source": [
    "a = np.array([[1.4, 2.6, 3.9],[1.4, 2.6, 3.9]])\n",
    "type(a[0])"
   ]
  },
  {
   "cell_type": "code",
   "execution_count": 13,
   "metadata": {},
   "outputs": [
    {
     "data": {
      "text/plain": [
       "numpy.random._generator.Generator"
      ]
     },
     "execution_count": 13,
     "metadata": {},
     "output_type": "execute_result"
    }
   ],
   "source": [
    "from sdia_python.lab2.utils import get_random_number_generator\n",
    "rng = get_random_number_generator(1)\n",
    "type(rng)"
   ]
  }
 ],
 "metadata": {
  "interpreter": {
   "hash": "14397f400563b3050677fe9714b25ab7faaf9cfdbbdffe1910a107eebf2e5b14"
  },
  "kernelspec": {
   "display_name": "Python 3.8.11 64-bit ('sdia-python': conda)",
   "name": "python3"
  },
  "language_info": {
   "codemirror_mode": {
    "name": "ipython",
    "version": 3
   },
   "file_extension": ".py",
   "mimetype": "text/x-python",
   "name": "python",
   "nbconvert_exporter": "python",
   "pygments_lexer": "ipython3",
   "version": "3.8.11"
  },
  "orig_nbformat": 4
 },
 "nbformat": 4,
 "nbformat_minor": 2
}
